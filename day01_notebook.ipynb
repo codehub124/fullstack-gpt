{
 "cells": [
  {
   "cell_type": "code",
   "execution_count": 16,
   "metadata": {},
   "outputs": [
    {
     "name": "stdout",
     "output_type": "stream",
     "text": [
      "Languages of code,\n",
      "Syntax and logic combine,\n",
      "Creating magic.This haiku beautifully captures the essence of programming. It describes how different programming languages, each with its own syntax and logic, come together to create something magical. The poet is highlighting the creative and almost mystical process of coding, where lines of code transform into functional and sometimes awe-inspiring software. The haiku celebrates the art and science of programming, emphasizing the power and beauty that can be found in the world of coding."
     ]
    },
    {
     "data": {
      "text/plain": [
       "AIMessage(content='This haiku beautifully captures the essence of programming. It describes how different programming languages, each with its own syntax and logic, come together to create something magical. The poet is highlighting the creative and almost mystical process of coding, where lines of code transform into functional and sometimes awe-inspiring software. The haiku celebrates the art and science of programming, emphasizing the power and beauty that can be found in the world of coding.', additional_kwargs={}, response_metadata={'finish_reason': 'stop', 'model_name': 'gpt-3.5-turbo-0125'}, id='run-0b50f5ea-cc68-4f62-8886-a96abfc2d983-0')"
      ]
     },
     "execution_count": 16,
     "metadata": {},
     "output_type": "execute_result"
    }
   ],
   "source": [
    "from langchain_openai import ChatOpenAI\n",
    "from langchain_core.prompts import ChatPromptTemplate\n",
    "from langchain_core.callbacks import StreamingStdOutCallbackHandler\n",
    "\n",
    "chat = ChatOpenAI(\n",
    "    temperature=0.1,\n",
    "    model=\"gpt-3.5-turbo\",\n",
    "    streaming=True,\n",
    "    callbacks=[StreamingStdOutCallbackHandler()]\n",
    ")\n",
    "\n",
    "haiku_prompt = ChatPromptTemplate.from_messages([\n",
    "    (\"system\", \"You are specialized in writing haikus about {topic}.\"),\n",
    "    (\"human\", \"I want to write a haiku about {topic}\")\n",
    "])\n",
    "\n",
    "explain_prompt = ChatPromptTemplate.from_messages([\n",
    "    (\"system\", \"You are specialized in explaining a haiku\"),\n",
    "    (\"human\", \"{haiku}\")\n",
    "])\n",
    "\n",
    "haiku_chain = haiku_prompt | chat\n",
    "explain_chain = explain_prompt | chat\n",
    "\n",
    "final_chain = { \"haiku\": haiku_chain } | explain_chain\n",
    "\n",
    "final_chain.invoke({\"topic\": \"Python\"})\n"
   ]
  }
 ],
 "metadata": {
  "kernelspec": {
   "display_name": "myenv",
   "language": "python",
   "name": "python3"
  },
  "language_info": {
   "codemirror_mode": {
    "name": "ipython",
    "version": 3
   },
   "file_extension": ".py",
   "mimetype": "text/x-python",
   "name": "python",
   "nbconvert_exporter": "python",
   "pygments_lexer": "ipython3",
   "version": "3.11.10"
  }
 },
 "nbformat": 4,
 "nbformat_minor": 2
}
