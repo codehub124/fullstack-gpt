{
 "cells": [
  {
   "cell_type": "code",
   "execution_count": null,
   "metadata": {},
   "outputs": [],
   "source": [
    "from langchain_openai import ChatOpenAI\n",
    "from langchain.agents import initialize_agent\n",
    "from langchain.agents.agent_types import AgentType\n",
    "from langchain_community.tools import StructuredTool\n",
    "\n",
    "llm = ChatOpenAI(\n",
    "    model=\"gpt-4o-mini\",\n",
    "    temperature=0\n",
    ")\n",
    "\n",
    "\"\"\"\n",
    "Example of using STRUCTURED_CHAT_ZERO_SHOT_REACT_DESCRIPTION\n",
    "\"\"\"\n",
    "\n",
    "def plus(a, b):\n",
    "    return a + b\n",
    "\n",
    "agent = initialize_agent(\n",
    "    llm=llm,\n",
    "    verbose=True,\n",
    "    tools=[\n",
    "        StructuredTool.from_function(\n",
    "            name=\"Sum Calculator\",\n",
    "            description=\"\"\"\n",
    "                Use this to calculate the sum of two numbers. This tool takes two numbers as input and returns the sum of the two numbers.\n",
    "                \"\"\",\n",
    "            func=plus\n",
    "        )\n",
    "    ],\n",
    "    agent=AgentType.STRUCTURED_CHAT_ZERO_SHOT_REACT_DESCRIPTION\n",
    ")\n",
    "\n",
    "prompt = \"Cost of $355.39 + $924.87 + $721.2 + $1940.29 + $573.63 + $65.72 + $35.00 + $552.00 + $76.16 + $29.12\"\n",
    "\n",
    "agent.invoke(prompt)"
   ]
  }
 ],
 "metadata": {
  "language_info": {
   "name": "python"
  }
 },
 "nbformat": 4,
 "nbformat_minor": 2
}
